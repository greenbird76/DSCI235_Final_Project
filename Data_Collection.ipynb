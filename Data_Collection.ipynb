{
 "cells": [
  {
   "cell_type": "markdown",
   "id": "ad5715f7",
   "metadata": {},
   "source": [
    "Install dependencies:"
   ]
  },
  {
   "cell_type": "code",
   "execution_count": null,
   "id": "ba4d40e3",
   "metadata": {},
   "outputs": [],
   "source": [
    "import kagglehub\n",
    "#from kagglehub import KaggleDatasetAdapter\n",
    "#import zipfile\n",
    "import pandas as pd"
   ]
  },
  {
   "cell_type": "code",
   "execution_count": null,
   "id": "12abb7a7",
   "metadata": {},
   "outputs": [
    {
     "name": "stderr",
     "output_type": "stream",
     "text": [
      "\u001b[33mWARNING: Package(s) not found: kagglehub\u001b[0m\u001b[33m\n",
      "\u001b[0m"
     ]
    },
    {
     "data": {
      "text/plain": [
       "256"
      ]
     },
     "execution_count": 11,
     "metadata": {},
     "output_type": "execute_result"
    }
   ],
   "source": [
    "import os\n",
    "os.system(\"pip3 show kagglehub\")"
   ]
  },
  {
   "cell_type": "markdown",
   "id": "8565b006",
   "metadata": {},
   "source": [
    "Download data from Kaggle:"
   ]
  },
  {
   "cell_type": "code",
   "execution_count": null,
   "id": "6d4ad2ff",
   "metadata": {},
   "outputs": [],
   "source": [
    "path=kagglehub.dataset_download(\"prestonrobertson7/league-of-legends-data-9292022\")\n"
   ]
  },
  {
   "cell_type": "markdown",
   "id": "cb33fb44",
   "metadata": {},
   "source": [
    "Read into a Pandas DataFrame:"
   ]
  },
  {
   "cell_type": "code",
   "execution_count": null,
   "id": "e9d32bc9",
   "metadata": {},
   "outputs": [
    {
     "name": "stderr",
     "output_type": "stream",
     "text": [
      "/tmp/ipykernel_21560/1373787418.py:3: DtypeWarning: Columns (2) have mixed types. Specify dtype option on import or set low_memory=False.\n",
      "  raw =pd.read_csv(path+\"/\"+fileN)\n"
     ]
    }
   ],
   "source": [
    "fileN = \"Sep-09-2022_10000matches.csv\"\n",
    "raw =pd.read_csv(path+\"/\"+fileN)"
   ]
  },
  {
   "cell_type": "markdown",
   "id": "fea99a57",
   "metadata": {},
   "source": [
    "**Cleaning the data**\n",
    "1. Select correct columns\n",
    "2. Remove ARAMs (this is a random game mode)"
   ]
  },
  {
   "cell_type": "code",
   "execution_count": 25,
   "id": "a5cca11a",
   "metadata": {},
   "outputs": [
    {
     "data": {
      "text/html": [
       "<div>\n",
       "<style scoped>\n",
       "    .dataframe tbody tr th:only-of-type {\n",
       "        vertical-align: middle;\n",
       "    }\n",
       "\n",
       "    .dataframe tbody tr th {\n",
       "        vertical-align: top;\n",
       "    }\n",
       "\n",
       "    .dataframe thead th {\n",
       "        text-align: right;\n",
       "    }\n",
       "</style>\n",
       "<table border=\"1\" class=\"dataframe\">\n",
       "  <thead>\n",
       "    <tr style=\"text-align: right;\">\n",
       "      <th></th>\n",
       "      <th>Unnamed: 0</th>\n",
       "      <th>assists</th>\n",
       "      <th>GameID</th>\n",
       "      <th>GameMode</th>\n",
       "      <th>baronKills</th>\n",
       "      <th>bountyLevel</th>\n",
       "      <th>champExperience</th>\n",
       "      <th>champLevel</th>\n",
       "      <th>championName</th>\n",
       "      <th>damageDealtToObjectives</th>\n",
       "      <th>...</th>\n",
       "      <th>totalTimeSpentDead</th>\n",
       "      <th>trueDamageDealtToChampions</th>\n",
       "      <th>trueDamageTaken</th>\n",
       "      <th>turretTakedowns</th>\n",
       "      <th>turretsLost</th>\n",
       "      <th>visionScore</th>\n",
       "      <th>visionWardsBoughtInGame</th>\n",
       "      <th>wardsKilled</th>\n",
       "      <th>wardsPlaced</th>\n",
       "      <th>win</th>\n",
       "    </tr>\n",
       "  </thead>\n",
       "  <tbody>\n",
       "    <tr>\n",
       "      <th>0</th>\n",
       "      <td>0</td>\n",
       "      <td>20</td>\n",
       "      <td>NA1_4430908515</td>\n",
       "      <td>ARAM</td>\n",
       "      <td>0</td>\n",
       "      <td>0</td>\n",
       "      <td>14531</td>\n",
       "      <td>15</td>\n",
       "      <td>Ashe</td>\n",
       "      <td>112</td>\n",
       "      <td>...</td>\n",
       "      <td>74</td>\n",
       "      <td>797</td>\n",
       "      <td>465</td>\n",
       "      <td>1</td>\n",
       "      <td>4</td>\n",
       "      <td>5</td>\n",
       "      <td>0</td>\n",
       "      <td>0</td>\n",
       "      <td>0</td>\n",
       "      <td>False</td>\n",
       "    </tr>\n",
       "    <tr>\n",
       "      <th>1</th>\n",
       "      <td>0</td>\n",
       "      <td>3</td>\n",
       "      <td>4035079604</td>\n",
       "      <td>CLASSIC</td>\n",
       "      <td>0</td>\n",
       "      <td>3</td>\n",
       "      <td>15453</td>\n",
       "      <td>16</td>\n",
       "      <td>Sett</td>\n",
       "      <td>18147</td>\n",
       "      <td>...</td>\n",
       "      <td>156</td>\n",
       "      <td>2556</td>\n",
       "      <td>686</td>\n",
       "      <td>4</td>\n",
       "      <td>4</td>\n",
       "      <td>10</td>\n",
       "      <td>0</td>\n",
       "      <td>0</td>\n",
       "      <td>7</td>\n",
       "      <td>True</td>\n",
       "    </tr>\n",
       "    <tr>\n",
       "      <th>2</th>\n",
       "      <td>0</td>\n",
       "      <td>19</td>\n",
       "      <td>4035079604</td>\n",
       "      <td>CLASSIC</td>\n",
       "      <td>0</td>\n",
       "      <td>3</td>\n",
       "      <td>13168</td>\n",
       "      <td>15</td>\n",
       "      <td>Trundle</td>\n",
       "      <td>27626</td>\n",
       "      <td>...</td>\n",
       "      <td>82</td>\n",
       "      <td>956</td>\n",
       "      <td>1571</td>\n",
       "      <td>6</td>\n",
       "      <td>4</td>\n",
       "      <td>21</td>\n",
       "      <td>3</td>\n",
       "      <td>0</td>\n",
       "      <td>11</td>\n",
       "      <td>True</td>\n",
       "    </tr>\n",
       "    <tr>\n",
       "      <th>3</th>\n",
       "      <td>0</td>\n",
       "      <td>6</td>\n",
       "      <td>4035079604</td>\n",
       "      <td>CLASSIC</td>\n",
       "      <td>0</td>\n",
       "      <td>1</td>\n",
       "      <td>13619</td>\n",
       "      <td>15</td>\n",
       "      <td>Sylas</td>\n",
       "      <td>10629</td>\n",
       "      <td>...</td>\n",
       "      <td>127</td>\n",
       "      <td>600</td>\n",
       "      <td>935</td>\n",
       "      <td>6</td>\n",
       "      <td>4</td>\n",
       "      <td>8</td>\n",
       "      <td>0</td>\n",
       "      <td>0</td>\n",
       "      <td>5</td>\n",
       "      <td>True</td>\n",
       "    </tr>\n",
       "    <tr>\n",
       "      <th>4</th>\n",
       "      <td>0</td>\n",
       "      <td>7</td>\n",
       "      <td>4035079604</td>\n",
       "      <td>CLASSIC</td>\n",
       "      <td>1</td>\n",
       "      <td>1</td>\n",
       "      <td>10674</td>\n",
       "      <td>13</td>\n",
       "      <td>KogMaw</td>\n",
       "      <td>13624</td>\n",
       "      <td>...</td>\n",
       "      <td>118</td>\n",
       "      <td>2202</td>\n",
       "      <td>521</td>\n",
       "      <td>3</td>\n",
       "      <td>4</td>\n",
       "      <td>3</td>\n",
       "      <td>1</td>\n",
       "      <td>1</td>\n",
       "      <td>2</td>\n",
       "      <td>True</td>\n",
       "    </tr>\n",
       "  </tbody>\n",
       "</table>\n",
       "<p>5 rows × 69 columns</p>\n",
       "</div>"
      ],
      "text/plain": [
       "   Unnamed: 0  assists          GameID GameMode  baronKills  bountyLevel  \\\n",
       "0           0       20  NA1_4430908515     ARAM           0            0   \n",
       "1           0        3      4035079604  CLASSIC           0            3   \n",
       "2           0       19      4035079604  CLASSIC           0            3   \n",
       "3           0        6      4035079604  CLASSIC           0            1   \n",
       "4           0        7      4035079604  CLASSIC           1            1   \n",
       "\n",
       "   champExperience  champLevel championName  damageDealtToObjectives  ...  \\\n",
       "0            14531          15         Ashe                      112  ...   \n",
       "1            15453          16         Sett                    18147  ...   \n",
       "2            13168          15      Trundle                    27626  ...   \n",
       "3            13619          15        Sylas                    10629  ...   \n",
       "4            10674          13       KogMaw                    13624  ...   \n",
       "\n",
       "   totalTimeSpentDead  trueDamageDealtToChampions  trueDamageTaken  \\\n",
       "0                  74                         797              465   \n",
       "1                 156                        2556              686   \n",
       "2                  82                         956             1571   \n",
       "3                 127                         600              935   \n",
       "4                 118                        2202              521   \n",
       "\n",
       "   turretTakedowns  turretsLost  visionScore  visionWardsBoughtInGame  \\\n",
       "0                1            4            5                        0   \n",
       "1                4            4           10                        0   \n",
       "2                6            4           21                        3   \n",
       "3                6            4            8                        0   \n",
       "4                3            4            3                        1   \n",
       "\n",
       "   wardsKilled wardsPlaced    win  \n",
       "0            0           0  False  \n",
       "1            0           7   True  \n",
       "2            0          11   True  \n",
       "3            0           5   True  \n",
       "4            1           2   True  \n",
       "\n",
       "[5 rows x 69 columns]"
      ]
     },
     "execution_count": 25,
     "metadata": {},
     "output_type": "execute_result"
    }
   ],
   "source": [
    "pd.DataFrame.head(raw)"
   ]
  },
  {
   "cell_type": "code",
   "execution_count": null,
   "id": "158f6eb9",
   "metadata": {},
   "outputs": [],
   "source": []
  }
 ],
 "metadata": {
  "kernelspec": {
   "display_name": "dsci235p",
   "language": "python",
   "name": "python3"
  },
  "language_info": {
   "codemirror_mode": {
    "name": "ipython",
    "version": 3
   },
   "file_extension": ".py",
   "mimetype": "text/x-python",
   "name": "python",
   "nbconvert_exporter": "python",
   "pygments_lexer": "ipython3",
   "version": "3.13.3"
  }
 },
 "nbformat": 4,
 "nbformat_minor": 5
}
